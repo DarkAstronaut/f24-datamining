{
 "cells": [
  {
   "cell_type": "code",
   "execution_count": 1,
   "id": "0c1e9739-8a0a-4cd8-a3d4-aa816bb8c72c",
   "metadata": {
    "tags": []
   },
   "outputs": [],
   "source": [
    "import pandas as pd\n",
    "\n",
    "# note: more imports may be necessary depending on your code"
   ]
  },
  {
   "cell_type": "code",
   "execution_count": 2,
   "id": "79f0e451-85dc-49b7-9478-75fa2e54c2fe",
   "metadata": {
    "tags": []
   },
   "outputs": [
    {
     "name": "stdout",
     "output_type": "stream",
     "text": [
      "Archive:  ./hw_data/hw0_dataset_1M.csv.zip\n",
      "  inflating: data/hw0_dataset_1M.csv  \n"
     ]
    }
   ],
   "source": [
    "!unzip -o ./hw_data/hw0_dataset_1M.csv.zip -d data/"
   ]
  },
  {
   "cell_type": "code",
   "execution_count": 3,
   "id": "f96af312-cd99-40a8-8898-9dbce55d9453",
   "metadata": {
    "tags": []
   },
   "outputs": [
    {
     "name": "stderr",
     "output_type": "stream",
     "text": [
      "/tmp/ipykernel_2335051/1750486504.py:2: DtypeWarning: Columns (17,18) have mixed types. Specify dtype option on import or set low_memory=False.\n",
      "  df = pd.read_csv( \"./data/hw0_dataset_1M.csv\", names = [i for i in range(0,30)])\n"
     ]
    }
   ],
   "source": [
    "# load the data set\n",
    "df = pd.read_csv( \"./data/hw0_dataset_1M.csv\", names = [i for i in range(0,30)])"
   ]
  },
  {
   "cell_type": "markdown",
   "id": "a33ebfd7-2050-4215-bf8e-6d081c801c89",
   "metadata": {},
   "source": [
    "## TASK : "
   ]
  },
  {
   "cell_type": "code",
   "execution_count": 11,
   "id": "2174e582-da11-47eb-9f6f-02c4ef590ddc",
   "metadata": {},
   "outputs": [
    {
     "data": {
      "text/html": [
       "<div>\n",
       "<style scoped>\n",
       "    .dataframe tbody tr th:only-of-type {\n",
       "        vertical-align: middle;\n",
       "    }\n",
       "\n",
       "    .dataframe tbody tr th {\n",
       "        vertical-align: top;\n",
       "    }\n",
       "\n",
       "    .dataframe thead th {\n",
       "        text-align: right;\n",
       "    }\n",
       "</style>\n",
       "<table border=\"1\" class=\"dataframe\">\n",
       "  <thead>\n",
       "    <tr style=\"text-align: right;\">\n",
       "      <th></th>\n",
       "      <th>2</th>\n",
       "      <th>9</th>\n",
       "    </tr>\n",
       "  </thead>\n",
       "  <tbody>\n",
       "    <tr>\n",
       "      <th>0</th>\n",
       "      <td>doi-asserted-by</td>\n",
       "      <td>journal-title</td>\n",
       "    </tr>\n",
       "    <tr>\n",
       "      <th>20</th>\n",
       "      <td>publisher</td>\n",
       "      <td>Environ. Health Perspect.</td>\n",
       "    </tr>\n",
       "    <tr>\n",
       "      <th>21</th>\n",
       "      <td>crossref</td>\n",
       "      <td>Atmos. Environ.</td>\n",
       "    </tr>\n",
       "    <tr>\n",
       "      <th>22</th>\n",
       "      <td>crossref</td>\n",
       "      <td>Science</td>\n",
       "    </tr>\n",
       "    <tr>\n",
       "      <th>23</th>\n",
       "      <td>crossref</td>\n",
       "      <td>Clim. Change</td>\n",
       "    </tr>\n",
       "    <tr>\n",
       "      <th>...</th>\n",
       "      <td>...</td>\n",
       "      <td>...</td>\n",
       "    </tr>\n",
       "    <tr>\n",
       "      <th>992245</th>\n",
       "      <td>crossref</td>\n",
       "      <td>Quarterly Journal of the Royal Meteorological ...</td>\n",
       "    </tr>\n",
       "    <tr>\n",
       "      <th>992246</th>\n",
       "      <td>crossref</td>\n",
       "      <td>Geophysical Research Letters</td>\n",
       "    </tr>\n",
       "    <tr>\n",
       "      <th>992247</th>\n",
       "      <td>crossref</td>\n",
       "      <td>Journal of Geophysical Research</td>\n",
       "    </tr>\n",
       "    <tr>\n",
       "      <th>992248</th>\n",
       "      <td>crossref</td>\n",
       "      <td>Journal of Geophysical Research</td>\n",
       "    </tr>\n",
       "    <tr>\n",
       "      <th>992249</th>\n",
       "      <td>crossref</td>\n",
       "      <td>Journal of Atmospheric Science</td>\n",
       "    </tr>\n",
       "  </tbody>\n",
       "</table>\n",
       "<p>266606 rows × 2 columns</p>\n",
       "</div>"
      ],
      "text/plain": [
       "                      2                                                  9\n",
       "0       doi-asserted-by                                      journal-title\n",
       "20            publisher                          Environ. Health Perspect.\n",
       "21             crossref                                    Atmos. Environ.\n",
       "22             crossref                                            Science\n",
       "23             crossref                                       Clim. Change\n",
       "...                 ...                                                ...\n",
       "992245         crossref  Quarterly Journal of the Royal Meteorological ...\n",
       "992246         crossref                       Geophysical Research Letters\n",
       "992247         crossref                    Journal of Geophysical Research\n",
       "992248         crossref                    Journal of Geophysical Research\n",
       "992249         crossref                     Journal of Atmospheric Science\n",
       "\n",
       "[266606 rows x 2 columns]"
      ]
     },
     "execution_count": 11,
     "metadata": {},
     "output_type": "execute_result"
    }
   ],
   "source": [
    "df.iloc[:,[2,9]].dropna()"
   ]
  },
  {
   "cell_type": "code",
   "execution_count": null,
   "id": "9e5ec51d-49c5-4eb8-8fe6-cb5ca5329ad0",
   "metadata": {},
   "outputs": [],
   "source": []
  }
 ],
 "metadata": {
  "kernelspec": {
   "display_name": "Python 3 (ipykernel)",
   "language": "python",
   "name": "python3"
  },
  "language_info": {
   "codemirror_mode": {
    "name": "ipython",
    "version": 3
   },
   "file_extension": ".py",
   "mimetype": "text/x-python",
   "name": "python",
   "nbconvert_exporter": "python",
   "pygments_lexer": "ipython3",
   "version": "3.11.4"
  }
 },
 "nbformat": 4,
 "nbformat_minor": 5
}
