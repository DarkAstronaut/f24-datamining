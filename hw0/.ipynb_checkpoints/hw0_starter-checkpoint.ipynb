{
 "cells": [
  {
   "cell_type": "code",
   "execution_count": null,
   "id": "0c1e9739-8a0a-4cd8-a3d4-aa816bb8c72c",
   "metadata": {
    "tags": []
   },
   "outputs": [],
   "source": [
    "import pandas as pd\n",
    "\n",
    "# note: more imports may be necessary depending on your code"
   ]
  },
  {
   "cell_type": "code",
   "execution_count": null,
   "id": "79f0e451-85dc-49b7-9478-75fa2e54c2fe",
   "metadata": {
    "tags": []
   },
   "outputs": [],
   "source": [
    "!unzip ./hw0_dataset_1M.csv.zip -o -d data/"
   ]
  },
  {
   "cell_type": "code",
   "execution_count": null,
   "id": "f96af312-cd99-40a8-8898-9dbce55d9453",
   "metadata": {
    "tags": []
   },
   "outputs": [],
   "source": [
    "# load the data set\n",
    "df = pd.read_csv( \"./data/hw0_dataset_1M.csv\", names = [i for i in range(0,30)])"
   ]
  },
  {
   "cell_type": "markdown",
   "id": "a33ebfd7-2050-4215-bf8e-6d081c801c89",
   "metadata": {},
   "source": [
    "## TASK : "
   ]
  }
 ],
 "metadata": {
  "kernelspec": {
   "display_name": "Python 3 (ipykernel)",
   "language": "python",
   "name": "python3"
  },
  "language_info": {
   "codemirror_mode": {
    "name": "ipython",
    "version": 3
   },
   "file_extension": ".py",
   "mimetype": "text/x-python",
   "name": "python",
   "nbconvert_exporter": "python",
   "pygments_lexer": "ipython3",
   "version": "3.11.4"
  }
 },
 "nbformat": 4,
 "nbformat_minor": 5
}
